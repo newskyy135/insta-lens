{
 "cells": [
  {
   "cell_type": "code",
   "execution_count": 5,
   "metadata": {},
   "outputs": [
    {
     "name": "stdout",
     "output_type": "stream",
     "text": [
      "Defaulting to user installation because normal site-packages is not writeable\n",
      "Collecting chromedriver\n",
      "  Downloading chromedriver-2.24.1-py2.py3-none-any.whl.metadata (304 bytes)\n",
      "Downloading chromedriver-2.24.1-py2.py3-none-any.whl (14.3 MB)\n",
      "   ---------------------------------------- 0.0/14.3 MB ? eta -:--:--\n",
      "   --------- ------------------------------ 3.4/14.3 MB 18.3 MB/s eta 0:00:01\n",
      "   ---------------------------- ----------- 10.2/14.3 MB 25.5 MB/s eta 0:00:01\n",
      "   ---------------------------------------- 14.3/14.3 MB 24.3 MB/s eta 0:00:00\n",
      "Installing collected packages: chromedriver\n",
      "Successfully installed chromedriver-2.24.1\n"
     ]
    }
   ],
   "source": [
    "!pip install chromedriver"
   ]
  },
  {
   "cell_type": "code",
   "execution_count": 3,
   "metadata": {},
   "outputs": [
    {
     "name": "stdout",
     "output_type": "stream",
     "text": [
      "Defaulting to user installation because normal site-packages is not writeable\n",
      "Collecting selenium\n",
      "  Downloading selenium-4.25.0-py3-none-any.whl.metadata (7.1 kB)\n",
      "Requirement already satisfied: urllib3<3,>=1.26 in c:\\users\\is041\\appdata\\local\\packages\\pythonsoftwarefoundation.python.3.12_qbz5n2kfra8p0\\localcache\\local-packages\\python312\\site-packages (from urllib3[socks]<3,>=1.26->selenium) (2.2.3)\n",
      "Collecting trio~=0.17 (from selenium)\n",
      "  Downloading trio-0.26.2-py3-none-any.whl.metadata (8.6 kB)\n",
      "Collecting trio-websocket~=0.9 (from selenium)\n",
      "  Downloading trio_websocket-0.11.1-py3-none-any.whl.metadata (4.7 kB)\n",
      "Requirement already satisfied: certifi>=2021.10.8 in c:\\users\\is041\\appdata\\local\\packages\\pythonsoftwarefoundation.python.3.12_qbz5n2kfra8p0\\localcache\\local-packages\\python312\\site-packages (from selenium) (2024.8.30)\n",
      "Collecting typing_extensions~=4.9 (from selenium)\n",
      "  Downloading typing_extensions-4.12.2-py3-none-any.whl.metadata (3.0 kB)\n",
      "Requirement already satisfied: websocket-client~=1.8 in c:\\users\\is041\\appdata\\local\\packages\\pythonsoftwarefoundation.python.3.12_qbz5n2kfra8p0\\localcache\\local-packages\\python312\\site-packages (from selenium) (1.8.0)\n",
      "Requirement already satisfied: attrs>=23.2.0 in c:\\users\\is041\\appdata\\local\\packages\\pythonsoftwarefoundation.python.3.12_qbz5n2kfra8p0\\localcache\\local-packages\\python312\\site-packages (from trio~=0.17->selenium) (24.2.0)\n",
      "Collecting sortedcontainers (from trio~=0.17->selenium)\n",
      "  Downloading sortedcontainers-2.4.0-py2.py3-none-any.whl.metadata (10 kB)\n",
      "Requirement already satisfied: idna in c:\\users\\is041\\appdata\\local\\packages\\pythonsoftwarefoundation.python.3.12_qbz5n2kfra8p0\\localcache\\local-packages\\python312\\site-packages (from trio~=0.17->selenium) (3.10)\n",
      "Collecting outcome (from trio~=0.17->selenium)\n",
      "  Downloading outcome-1.3.0.post0-py2.py3-none-any.whl.metadata (2.6 kB)\n",
      "Requirement already satisfied: sniffio>=1.3.0 in c:\\users\\is041\\appdata\\local\\packages\\pythonsoftwarefoundation.python.3.12_qbz5n2kfra8p0\\localcache\\local-packages\\python312\\site-packages (from trio~=0.17->selenium) (1.3.1)\n",
      "Requirement already satisfied: cffi>=1.14 in c:\\users\\is041\\appdata\\local\\packages\\pythonsoftwarefoundation.python.3.12_qbz5n2kfra8p0\\localcache\\local-packages\\python312\\site-packages (from trio~=0.17->selenium) (1.17.1)\n",
      "Collecting wsproto>=0.14 (from trio-websocket~=0.9->selenium)\n",
      "  Downloading wsproto-1.2.0-py3-none-any.whl.metadata (5.6 kB)\n",
      "Collecting pysocks!=1.5.7,<2.0,>=1.5.6 (from urllib3[socks]<3,>=1.26->selenium)\n",
      "  Downloading PySocks-1.7.1-py3-none-any.whl.metadata (13 kB)\n",
      "Requirement already satisfied: pycparser in c:\\users\\is041\\appdata\\local\\packages\\pythonsoftwarefoundation.python.3.12_qbz5n2kfra8p0\\localcache\\local-packages\\python312\\site-packages (from cffi>=1.14->trio~=0.17->selenium) (2.22)\n",
      "Requirement already satisfied: h11<1,>=0.9.0 in c:\\users\\is041\\appdata\\local\\packages\\pythonsoftwarefoundation.python.3.12_qbz5n2kfra8p0\\localcache\\local-packages\\python312\\site-packages (from wsproto>=0.14->trio-websocket~=0.9->selenium) (0.14.0)\n",
      "Downloading selenium-4.25.0-py3-none-any.whl (9.7 MB)\n",
      "   ---------------------------------------- 0.0/9.7 MB ? eta -:--:--\n",
      "   ----------------------- ---------------- 5.8/9.7 MB 32.0 MB/s eta 0:00:01\n",
      "   ---------------------------------------- 9.7/9.7 MB 28.7 MB/s eta 0:00:00\n",
      "Downloading trio-0.26.2-py3-none-any.whl (475 kB)\n",
      "Downloading trio_websocket-0.11.1-py3-none-any.whl (17 kB)\n",
      "Downloading typing_extensions-4.12.2-py3-none-any.whl (37 kB)\n",
      "Downloading PySocks-1.7.1-py3-none-any.whl (16 kB)\n",
      "Downloading wsproto-1.2.0-py3-none-any.whl (24 kB)\n",
      "Downloading outcome-1.3.0.post0-py2.py3-none-any.whl (10 kB)\n",
      "Downloading sortedcontainers-2.4.0-py2.py3-none-any.whl (29 kB)\n",
      "Installing collected packages: sortedcontainers, wsproto, typing_extensions, pysocks, outcome, trio, trio-websocket, selenium\n",
      "Successfully installed outcome-1.3.0.post0 pysocks-1.7.1 selenium-4.25.0 sortedcontainers-2.4.0 trio-0.26.2 trio-websocket-0.11.1 typing_extensions-4.12.2 wsproto-1.2.0\n"
     ]
    }
   ],
   "source": [
    "!pip install selenium"
   ]
  },
  {
   "cell_type": "code",
   "execution_count": 5,
   "metadata": {},
   "outputs": [],
   "source": [
    "from selenium import webdriver\n",
    "from selenium.webdriver.common.by import By\n",
    "from selenium.webdriver.common.keys import Keys\n",
    "import time"
   ]
  },
  {
   "cell_type": "code",
   "execution_count": 6,
   "metadata": {},
   "outputs": [],
   "source": [
    "# 인스타그램 로그인 함수\n",
    "def instagram_login(driver, username, password):\n",
    "    driver.get('https://www.instagram.com/accounts/login/')\n",
    "    time.sleep(5)\n",
    "\n",
    "    username_input = driver.find_element(By.NAME, 'username')\n",
    "    password_input = driver.find_element(By.NAME, 'password')\n",
    "    username_input.send_keys(username)\n",
    "    password_input.send_keys(password)\n",
    "    password_input.send_keys(Keys.RETURN)\n",
    "\n",
    "    time.sleep(10)  # 로그인 처리 대기"
   ]
  },
  {
   "cell_type": "code",
   "execution_count": 41,
   "metadata": {},
   "outputs": [],
   "source": [
    "# 팔로워 리스트 가져오기\n",
    "def get_followers(driver, target_username):\n",
    "    driver.get(f'https://www.instagram.com/{target_username}/')\n",
    "    time.sleep(5)\n",
    "    followers_button = driver.find_element(By.PARTIAL_LINK_TEXT, 'followers')\n",
    "    followers_button.click()\n",
    "    time.sleep(5)\n",
    "    followers = set()\n",
    "    scroll_box = driver.find_element(By.XPATH, \"//div[@role='dialog']//div[@class='xyi19xy x1ccrb07 xtf3nb5 x1pc53ja x1lliihq x1iyjqo2 xs83m0k xz65tgg x1rife3k x1n2onr6']\")\n",
    "    last_height, height = 0, 1\n",
    "    while True:\n",
    "        last_height = height\n",
    "        time.sleep(2)\n",
    "        height = driver.execute_script(\n",
    "            \"arguments[0].scrollTop = arguments[0].scrollHeight; return arguments[0].scrollHeight;\", scroll_box)\n",
    "        links = scroll_box.find_elements(By.TAG_NAME, 'a')\n",
    "        followers.update([link.text for link in links if link.text != ''])\n",
    "        # 스크롤 높이가 더 이상 변하지 않으면 반복문 종료\n",
    "        if last_height == height:\n",
    "            scroll_attempts += 1\n",
    "            if scroll_attempts >= 3:  # 3번 연속 실패 시 종료\n",
    "                break\n",
    "        else:\n",
    "            scroll_attempts = 0  # 높이가 변하면 시도 횟수 초기화\n",
    "            \n",
    "    return followers"
   ]
  },
  {
   "cell_type": "code",
   "execution_count": 42,
   "metadata": {},
   "outputs": [],
   "source": [
    "# 팔로잉 리스트 가져오기\n",
    "def get_following(driver, target_username):\n",
    "    driver.get(f'https://www.instagram.com/{target_username}/')\n",
    "    time.sleep(5)\n",
    "    following_button = driver.find_element(By.PARTIAL_LINK_TEXT, 'following')\n",
    "    following_button.click()\n",
    "    time.sleep(5)\n",
    "    following = set()\n",
    "    scroll_box = driver.find_element(By.XPATH, \"//div[@role='dialog']//div[@class='xyi19xy x1ccrb07 xtf3nb5 x1pc53ja x1lliihq x1iyjqo2 xs83m0k xz65tgg x1rife3k x1n2onr6']\")\n",
    "    last_height, height = 0, 1\n",
    "    while True:\n",
    "        last_height = height\n",
    "        time.sleep(2)\n",
    "        height = driver.execute_script(\n",
    "            \"arguments[0].scrollTop = arguments[0].scrollHeight; return arguments[0].scrollHeight;\", scroll_box)\n",
    "        links = scroll_box.find_elements(By.TAG_NAME, 'a')\n",
    "        following.update([link.text for link in links if link.text != ''])\n",
    "        # 스크롤 높이가 더 이상 변하지 않으면 반복문 종료\n",
    "        if last_height == height:\n",
    "            scroll_attempts += 1\n",
    "            if scroll_attempts >= 3: # 3번 연속 실패 시 종료\n",
    "                break\n",
    "        else:\n",
    "            scroll_attempts = 0 # 높이가 변하면 시도 횟수 초기화\n",
    "            \n",
    "    return following\n",
    "\n",
    "\n"
   ]
  },
  {
   "cell_type": "code",
   "execution_count": 9,
   "metadata": {},
   "outputs": [],
   "source": [
    "# 맞팔로우하지 않는 사용자 출력\n",
    "def find_non_followers(username, password, target_username):\n",
    "    driver = webdriver.Chrome()\n",
    "    try:\n",
    "        instagram_login(driver, username, password)\n",
    "        followers = get_followers(driver, target_username)\n",
    "        following = get_following(driver, target_username)\n",
    "\n",
    "        not_following_back = following - followers\n",
    "        print(f\"{target_username}의 맞팔로우하지 않는 사용자:\")\n",
    "        for user in not_following_back:\n",
    "            print(user)\n",
    "    finally:\n",
    "        driver.quit()"
   ]
  },
  {
   "cell_type": "code",
   "execution_count": 11,
   "metadata": {},
   "outputs": [
    {
     "ename": "KeyboardInterrupt",
     "evalue": "",
     "output_type": "error",
     "traceback": [
      "\u001b[1;31m---------------------------------------------------------------------------\u001b[0m",
      "\u001b[1;31mKeyboardInterrupt\u001b[0m                         Traceback (most recent call last)",
      "Cell \u001b[1;32mIn[11], line 3\u001b[0m\n\u001b[0;32m      1\u001b[0m \u001b[38;5;66;03m# 사용자 인풋 받기\u001b[39;00m\n\u001b[0;32m      2\u001b[0m \u001b[38;5;28;01mif\u001b[39;00m \u001b[38;5;18m__name__\u001b[39m \u001b[38;5;241m==\u001b[39m \u001b[38;5;124m\"\u001b[39m\u001b[38;5;124m__main__\u001b[39m\u001b[38;5;124m\"\u001b[39m:\n\u001b[1;32m----> 3\u001b[0m     \u001b[43mtime\u001b[49m\u001b[38;5;241;43m.\u001b[39;49m\u001b[43msleep\u001b[49m\u001b[43m(\u001b[49m\u001b[38;5;241;43m5\u001b[39;49m\u001b[43m)\u001b[49m\n\u001b[0;32m      4\u001b[0m     instagram_username \u001b[38;5;241m=\u001b[39m \u001b[38;5;28minput\u001b[39m(\u001b[38;5;124m\"\u001b[39m\u001b[38;5;124m인스타그램 아이디: \u001b[39m\u001b[38;5;124m\"\u001b[39m)\n\u001b[0;32m      5\u001b[0m     instagram_password \u001b[38;5;241m=\u001b[39m \u001b[38;5;28minput\u001b[39m(\u001b[38;5;124m\"\u001b[39m\u001b[38;5;124m인스타그램 비밀번호: \u001b[39m\u001b[38;5;124m\"\u001b[39m)\n",
      "\u001b[1;31mKeyboardInterrupt\u001b[0m: "
     ]
    }
   ],
   "source": [
    "# 사용자 인풋 받기\n",
    "if __name__ == \"__main__\":\n",
    "    time.sleep(5)\n",
    "    instagram_username = input(\"인스타그램 아이디: \")\n",
    "    instagram_password = input(\"인스타그램 비밀번호: \")\n",
    "    time.sleep(10)\n",
    "    target_username = input(\"확인하고 싶은 사용자 아이디: \")\n",
    "    find_non_followers(instagram_username, instagram_password, target_username)"
   ]
  },
  {
   "cell_type": "code",
   "execution_count": null,
   "metadata": {},
   "outputs": [],
   "source": [
    "# 사용자 인풋 받기\n",
    "if __name__ == \"__main__\":\n",
    "    instagram_username = \"is04133333@gmail.com\"\n",
    "    instagram_password = \"rjsQkdaos3664!\"\n",
    "    target_username = \"zeta_gav\"\n",
    "    find_non_followers(instagram_username, instagram_password, target_username)"
   ]
  },
  {
   "cell_type": "code",
   "execution_count": null,
   "metadata": {},
   "outputs": [],
   "source": []
  }
 ],
 "metadata": {
  "kernelspec": {
   "display_name": "Python 3",
   "language": "python",
   "name": "python3"
  },
  "language_info": {
   "codemirror_mode": {
    "name": "ipython",
    "version": 3
   },
   "file_extension": ".py",
   "mimetype": "text/x-python",
   "name": "python",
   "nbconvert_exporter": "python",
   "pygments_lexer": "ipython3",
   "version": "3.12.7"
  }
 },
 "nbformat": 4,
 "nbformat_minor": 2
}
