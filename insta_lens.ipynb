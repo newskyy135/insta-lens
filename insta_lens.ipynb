{
 "cells": [
  {
   "cell_type": "code",
   "execution_count": 1,
   "metadata": {},
   "outputs": [
    {
     "name": "stdout",
     "output_type": "stream",
     "text": [
      "Requirement already satisfied: selenium in c:\\users\\user\\appdata\\local\\programs\\python\\python313\\lib\\site-packages (4.25.0)\n",
      "Requirement already satisfied: urllib3<3,>=1.26 in c:\\users\\user\\appdata\\local\\programs\\python\\python313\\lib\\site-packages (from urllib3[socks]<3,>=1.26->selenium) (2.2.3)\n",
      "Requirement already satisfied: trio~=0.17 in c:\\users\\user\\appdata\\local\\programs\\python\\python313\\lib\\site-packages (from selenium) (0.26.2)\n",
      "Requirement already satisfied: trio-websocket~=0.9 in c:\\users\\user\\appdata\\local\\programs\\python\\python313\\lib\\site-packages (from selenium) (0.11.1)\n",
      "Requirement already satisfied: certifi>=2021.10.8 in c:\\users\\user\\appdata\\local\\programs\\python\\python313\\lib\\site-packages (from selenium) (2024.8.30)\n",
      "Requirement already satisfied: typing_extensions~=4.9 in c:\\users\\user\\appdata\\local\\programs\\python\\python313\\lib\\site-packages (from selenium) (4.12.2)\n",
      "Requirement already satisfied: websocket-client~=1.8 in c:\\users\\user\\appdata\\local\\programs\\python\\python313\\lib\\site-packages (from selenium) (1.8.0)\n",
      "Requirement already satisfied: attrs>=23.2.0 in c:\\users\\user\\appdata\\local\\programs\\python\\python313\\lib\\site-packages (from trio~=0.17->selenium) (24.2.0)\n",
      "Requirement already satisfied: sortedcontainers in c:\\users\\user\\appdata\\local\\programs\\python\\python313\\lib\\site-packages (from trio~=0.17->selenium) (2.4.0)\n",
      "Requirement already satisfied: idna in c:\\users\\user\\appdata\\local\\programs\\python\\python313\\lib\\site-packages (from trio~=0.17->selenium) (3.10)\n",
      "Requirement already satisfied: outcome in c:\\users\\user\\appdata\\local\\programs\\python\\python313\\lib\\site-packages (from trio~=0.17->selenium) (1.3.0.post0)\n",
      "Requirement already satisfied: sniffio>=1.3.0 in c:\\users\\user\\appdata\\local\\programs\\python\\python313\\lib\\site-packages (from trio~=0.17->selenium) (1.3.1)\n",
      "Requirement already satisfied: cffi>=1.14 in c:\\users\\user\\appdata\\local\\programs\\python\\python313\\lib\\site-packages (from trio~=0.17->selenium) (1.17.1)\n",
      "Requirement already satisfied: wsproto>=0.14 in c:\\users\\user\\appdata\\local\\programs\\python\\python313\\lib\\site-packages (from trio-websocket~=0.9->selenium) (1.2.0)\n",
      "Requirement already satisfied: pysocks!=1.5.7,<2.0,>=1.5.6 in c:\\users\\user\\appdata\\local\\programs\\python\\python313\\lib\\site-packages (from urllib3[socks]<3,>=1.26->selenium) (1.7.1)\n",
      "Requirement already satisfied: pycparser in c:\\users\\user\\appdata\\local\\programs\\python\\python313\\lib\\site-packages (from cffi>=1.14->trio~=0.17->selenium) (2.22)\n",
      "Requirement already satisfied: h11<1,>=0.9.0 in c:\\users\\user\\appdata\\local\\programs\\python\\python313\\lib\\site-packages (from wsproto>=0.14->trio-websocket~=0.9->selenium) (0.14.0)\n",
      "Note: you may need to restart the kernel to use updated packages.\n",
      "Requirement already satisfied: webdriver-manager in c:\\users\\user\\appdata\\local\\programs\\python\\python313\\lib\\site-packages (4.0.2)\n",
      "Requirement already satisfied: requests in c:\\users\\user\\appdata\\local\\programs\\python\\python313\\lib\\site-packages (from webdriver-manager) (2.32.3)\n",
      "Requirement already satisfied: python-dotenv in c:\\users\\user\\appdata\\local\\programs\\python\\python313\\lib\\site-packages (from webdriver-manager) (1.0.1)\n",
      "Requirement already satisfied: packaging in c:\\users\\user\\appdata\\roaming\\python\\python313\\site-packages (from webdriver-manager) (24.1)\n",
      "Requirement already satisfied: charset-normalizer<4,>=2 in c:\\users\\user\\appdata\\local\\programs\\python\\python313\\lib\\site-packages (from requests->webdriver-manager) (3.4.0)\n",
      "Requirement already satisfied: idna<4,>=2.5 in c:\\users\\user\\appdata\\local\\programs\\python\\python313\\lib\\site-packages (from requests->webdriver-manager) (3.10)\n",
      "Requirement already satisfied: urllib3<3,>=1.21.1 in c:\\users\\user\\appdata\\local\\programs\\python\\python313\\lib\\site-packages (from requests->webdriver-manager) (2.2.3)\n",
      "Requirement already satisfied: certifi>=2017.4.17 in c:\\users\\user\\appdata\\local\\programs\\python\\python313\\lib\\site-packages (from requests->webdriver-manager) (2024.8.30)\n",
      "Note: you may need to restart the kernel to use updated packages.\n"
     ]
    }
   ],
   "source": [
    "%pip install selenium\n",
    "%pip install webdriver-manager\n"
   ]
  },
  {
   "cell_type": "code",
   "execution_count": 2,
   "metadata": {},
   "outputs": [],
   "source": [
    "from selenium import webdriver\n",
    "from selenium.webdriver.chrome.service import Service\n",
    "from webdriver_manager.chrome import ChromeDriverManager\n",
    "from selenium.webdriver.common.by import By\n",
    "from selenium.webdriver.common.keys import Keys\n",
    "from selenium.webdriver.support.ui import WebDriverWait\n",
    "from selenium.webdriver.support import expected_conditions as EC\n",
    "from selenium.webdriver.chrome.options import Options\n",
    "from selenium.webdriver import ActionChains\n",
    "import time"
   ]
  },
  {
   "cell_type": "code",
   "execution_count": 3,
   "metadata": {},
   "outputs": [],
   "source": [
    "#테스트할 인스타그램 계정 정보\n",
    "username = '5steamtest'\n",
    "password = 'testTest1!'"
   ]
  },
  {
   "cell_type": "code",
   "execution_count": 4,
   "metadata": {},
   "outputs": [],
   "source": [
    "# Chrome 드라이버 초기화 및 설정\n",
    "def init_driver():\n",
    "    chrome_options = Options()\n",
    "    chrome_options.add_argument(\"user-agent=Mozilla/5.0 (Macintosh; Intel Mac OS X 10_15_4) AppleWebKit/537.36 (KHTML, like Gecko) Chrome/83.0.4103.97 Safari/537.36\")\n",
    "    driver = webdriver.Chrome(service=Service(ChromeDriverManager().install()), options=chrome_options)\n",
    "    return driver"
   ]
  },
  {
   "cell_type": "code",
   "execution_count": 5,
   "metadata": {},
   "outputs": [],
   "source": [
    "# 인스타그램 로그인\n",
    "def insta_login(driver, username, password):\n",
    "    driver.get('https://www.instagram.com/accounts/login/')\n",
    "    \n",
    "    # 로그인 대기\n",
    "    WebDriverWait(driver, 10).until(EC.presence_of_element_located((By.NAME, 'username')))\n",
    "    username_input = driver.find_element(By.NAME, 'username')\n",
    "    password_input = driver.find_element(By.NAME, 'password')\n",
    "    \n",
    "    # 로그인 정보 입력 및 로그인 버튼 클릭\n",
    "    username_input.send_keys(username)\n",
    "    password_input.send_keys(password)\n",
    "    password_input.send_keys(Keys.RETURN)\n",
    "    time.sleep(5)  # 페이지 로드 대기"
   ]
  },
  {
   "cell_type": "code",
   "execution_count": 6,
   "metadata": {},
   "outputs": [],
   "source": [
    "# 사용자 프로필 페이지로 이동\n",
    "def insta_search_user(driver, user_account):\n",
    "    profile_url = f\"https://www.instagram.com/{user_account}/\"\n",
    "    driver.get(profile_url)\n",
    "    time.sleep(10)  # 프로필 로드 대기"
   ]
  },
  {
   "cell_type": "code",
   "execution_count": 7,
   "metadata": {},
   "outputs": [],
   "source": [
    "# 최근 n개 게시물에서 좋아요를 한 사용자 목록 가져오기\n",
    "def get_likes(driver, contents_num, username):\n",
    "    #posts = driver.find_elements(By.XPATH, '//a[contains(@href, \"/p/\") or contains(@href, \"/reels/\")]')\n",
    "    posts = driver.find_elements(By.XPATH, '//a[contains(@class, \"x1i10hfl xjbqb8w x1ejq31n xd10rxx x1sy0etr x17r0tee x972fbf xcfux6l x1qhh985 xm0m39n x9f619 x1ypdohk xt0psk2 xe8uvvx xdj266r x11i5rnm xat24cr x1mh8g0r xexx8yu x4uap5 x18d9i69 xkhd6sd x16tdsg8 x1hl2dhg xggy1nq x1a2a7pz _a6hd\")]')    \n",
    "    post_links = []\n",
    "    for post in posts[:contents_num]:\n",
    "        link = post.get_attribute('href')\n",
    "        if \"/p/\" in link or \"/reel/\" in link:\n",
    "            link = link.replace(username+\"/\", \"\").replace(\"/reel/\", \"/p/\")\n",
    "            post_links.append(link)\n",
    "    \n",
    "    #post_links = [post.get_attribute('href').replace(username+\"/\", \"\").replace(\"/reel/\", \"/p/\") for post in posts[:contents_num]]  # 최근 게시물 5개 링크 저장\n",
    "    #for post in post_links:\n",
    "    #    print(post)\n",
    "    \n",
    "    # 사용자 아이디 수집용 dict\n",
    "    like_users = dict()\n",
    "\n",
    "    if not post_links:\n",
    "        print(f\"게시글이 없습니다.\")\n",
    "        return \n",
    "\n",
    "    for index, post_url in enumerate(post_links, start=1):\n",
    "        # 좋아요 페이지로 이동\n",
    "        driver.get(f'{post_url}liked_by/')\n",
    "        time.sleep(2)  # 로딩 후 대기\n",
    "        try:\n",
    "            last_height = driver.execute_script(\"return document.body.scrollHeight\")\n",
    "            \n",
    "            while True:\n",
    "                # 좋아요 사용자 리스트 가져오기\n",
    "                users = driver.find_elements(By.XPATH, '//span[contains(@class, \"_ap3a _aaco _aacw _aacx _aad7 _aade\")]')\n",
    "                for user in users:\n",
    "                    like_users[user.text] = like_users.get(user.text, 0) + 1\n",
    "                # 스크롤 내리기\n",
    "                driver.execute_script(\"window.scrollTo(0, document.body.scrollHeight);\")\n",
    "                \n",
    "                # 스크롤 후 대기\n",
    "                time.sleep(1)\n",
    "\n",
    "                # 새로운 높이 계산\n",
    "                new_height = driver.execute_script(\"return document.body.scrollHeight\")\n",
    "                \n",
    "                # 마지막 높이와 비교하여 더 이상 스크롤할 수 없으면 종료\n",
    "                if new_height == last_height:\n",
    "                    break\n",
    "                last_height = new_height\n",
    "\n",
    "            # 좋아요 사용자 출력\n",
    "            #print(f\"Post {index} URL: {post_url} - Liked Users: {', '.join(list(like_users)[:len(like_users)])}\")\n",
    "            print(f\"Post {index} URL: {post_url} - Liked Users: {', '.join(f'{key}: {value}' for key, value in like_users.items())}\")         \n",
    "        except Exception as NoLikedList:\n",
    "            print(f\"좋아요 사용자 리스트를 찾는 데 실패했습니다: {NoLikedList}\")\n",
    "    return like_users"
   ]
  },
  {
   "cell_type": "markdown",
   "metadata": {},
   "source": [
    "### 메인 함수\n",
    "TODO list 확인"
   ]
  },
  {
   "cell_type": "code",
   "execution_count": 8,
   "metadata": {},
   "outputs": [
    {
     "name": "stdout",
     "output_type": "stream",
     "text": [
      "Post 1 URL: https://www.instagram.com/p/C9shtUsBD8t/ - Liked Users: ye.on._.06: 1, iam_ringkim: 1, _weekyear: 1, daye.__.n: 1, yunsrcd: 1, ieejyn: 1, zeonghye: 1, haeng_inthere: 1, kimchxxze: 1, seohyuuuuuun: 1, kmymyka: 1, r.hyej: 1, _dongni: 1, axxle.ah: 1, zwinhe: 1, mineral_ouo: 1, o0v0b: 1, cay_plo: 1, ssoo_jj: 1, am.3.00: 1\n",
      "Post 2 URL: https://www.instagram.com/p/C7qsvF5JHta/ - Liked Users: ye.on._.06: 2, iam_ringkim: 1, _weekyear: 2, daye.__.n: 1, yunsrcd: 2, ieejyn: 2, zeonghye: 1, haeng_inthere: 1, kimchxxze: 1, seohyuuuuuun: 1, kmymyka: 2, r.hyej: 2, _dongni: 1, axxle.ah: 1, zwinhe: 2, mineral_ouo: 1, o0v0b: 2, cay_plo: 1, ssoo_jj: 1, am.3.00: 1, meuno._.o: 1, hye_rin811: 1, je_seong2: 1, ju_hee2_2: 1, seoha1203: 1, mellow_shhong: 1, yo_zheng21: 1, jixhyunie: 1, kk_imny: 1, haru_film_bp: 1, neejugram: 1, doublej_k: 1, ttkkkxx: 1, gain.hair: 1, merry_go_round_cake_: 1, dawngiraffe: 1, erin9751: 1, gyu_0212: 1, 2_taek: 1, y_driosn: 1, water_of_dawn: 1\n",
      "Post 3 URL: https://www.instagram.com/p/C50EWmGrFEA/ - Liked Users: ye.on._.06: 3, iam_ringkim: 1, _weekyear: 2, daye.__.n: 2, yunsrcd: 2, ieejyn: 3, zeonghye: 1, haeng_inthere: 2, kimchxxze: 1, seohyuuuuuun: 2, kmymyka: 3, r.hyej: 3, _dongni: 1, axxle.ah: 1, zwinhe: 3, mineral_ouo: 1, o0v0b: 3, cay_plo: 1, ssoo_jj: 1, am.3.00: 1, meuno._.o: 1, hye_rin811: 2, je_seong2: 2, ju_hee2_2: 1, seoha1203: 2, mellow_shhong: 1, yo_zheng21: 2, jixhyunie: 2, kk_imny: 1, haru_film_bp: 2, neejugram: 2, doublej_k: 1, ttkkkxx: 1, gain.hair: 2, merry_go_round_cake_: 1, dawngiraffe: 2, erin9751: 1, gyu_0212: 1, 2_taek: 1, y_driosn: 1, water_of_dawn: 2, dajoyee: 1, shxi1234: 1, j_syoooun: 1, dessert39.anmyeondo: 1, angelicapatriciabarbosa: 1, hyuni_yeh: 1, euny_grace4: 1, kevin_wbwkz: 1, proofinder: 1, jph0wh: 1\n",
      "Post 4 URL: https://www.instagram.com/p/Ctm1plIua6j/ - Liked Users: ye.on._.06: 4, iam_ringkim: 1, _weekyear: 2, daye.__.n: 2, yunsrcd: 2, ieejyn: 4, zeonghye: 2, haeng_inthere: 3, kimchxxze: 1, seohyuuuuuun: 3, kmymyka: 4, r.hyej: 4, _dongni: 1, axxle.ah: 1, zwinhe: 4, mineral_ouo: 1, o0v0b: 4, cay_plo: 1, ssoo_jj: 1, am.3.00: 1, meuno._.o: 2, hye_rin811: 2, je_seong2: 2, ju_hee2_2: 1, seoha1203: 3, mellow_shhong: 1, yo_zheng21: 2, jixhyunie: 3, kk_imny: 1, haru_film_bp: 3, neejugram: 3, doublej_k: 1, ttkkkxx: 2, gain.hair: 2, merry_go_round_cake_: 1, dawngiraffe: 3, erin9751: 1, gyu_0212: 1, 2_taek: 1, y_driosn: 1, water_of_dawn: 2, dajoyee: 1, shxi1234: 1, j_syoooun: 1, dessert39.anmyeondo: 2, angelicapatriciabarbosa: 1, hyuni_yeh: 1, euny_grace4: 1, kevin_wbwkz: 1, proofinder: 1, jph0wh: 1, graceeaston: 1, lovive.kr: 1, oes3793: 1, srooongs_: 1, hoonhoon_hotteok: 1, gullcentwoolfe1987: 1, dmitriy9sqd: 1, seung._.jong: 1, mcdillguhelvik3jh: 1, qhgxrufduj244: 1\n",
      "Post 5 URL: https://www.instagram.com/p/Cm1RCHhB1a3/ - Liked Users: ye.on._.06: 4, iam_ringkim: 1, _weekyear: 2, daye.__.n: 2, yunsrcd: 2, ieejyn: 4, zeonghye: 2, haeng_inthere: 3, kimchxxze: 1, seohyuuuuuun: 3, kmymyka: 5, r.hyej: 4, _dongni: 1, axxle.ah: 1, zwinhe: 5, mineral_ouo: 1, o0v0b: 4, cay_plo: 1, ssoo_jj: 1, am.3.00: 1, meuno._.o: 2, hye_rin811: 2, je_seong2: 2, ju_hee2_2: 1, seoha1203: 4, mellow_shhong: 1, yo_zheng21: 2, jixhyunie: 3, kk_imny: 1, haru_film_bp: 4, neejugram: 4, doublej_k: 1, ttkkkxx: 2, gain.hair: 2, merry_go_round_cake_: 1, dawngiraffe: 4, erin9751: 1, gyu_0212: 1, 2_taek: 1, y_driosn: 1, water_of_dawn: 2, dajoyee: 1, shxi1234: 1, j_syoooun: 2, dessert39.anmyeondo: 3, angelicapatriciabarbosa: 1, hyuni_yeh: 1, euny_grace4: 1, kevin_wbwkz: 1, proofinder: 1, jph0wh: 1, graceeaston: 1, lovive.kr: 2, oes3793: 1, srooongs_: 1, hoonhoon_hotteok: 1, gullcentwoolfe1987: 1, dmitriy9sqd: 1, seung._.jong: 2, mcdillguhelvik3jh: 1, qhgxrufduj244: 1, lumkrfzeu: 1, ilikegymchalk: 1, figma_lion: 1, feiderrizvico: 1, kahucondfast1984: 1, omerarul1986: 1, anexxaver1982: 1, icheisyntdal1974: 1, cheliicjurov: 1, ersidexi4: 1, he_0ung_: 1, eupcheonri_busan_choeup: 1, img.bianan: 1, clasenprazec1976: 1\n",
      "Post 6 URL: https://www.instagram.com/p/Cl7ZBq9vtQo/ - Liked Users: ye.on._.06: 4, iam_ringkim: 1, _weekyear: 3, daye.__.n: 3, yunsrcd: 2, ieejyn: 4, zeonghye: 2, haeng_inthere: 4, kimchxxze: 1, seohyuuuuuun: 4, kmymyka: 5, r.hyej: 5, _dongni: 1, axxle.ah: 1, zwinhe: 6, mineral_ouo: 1, o0v0b: 4, cay_plo: 1, ssoo_jj: 1, am.3.00: 1, meuno._.o: 2, hye_rin811: 2, je_seong2: 3, ju_hee2_2: 1, seoha1203: 5, mellow_shhong: 1, yo_zheng21: 2, jixhyunie: 4, kk_imny: 2, haru_film_bp: 5, neejugram: 5, doublej_k: 1, ttkkkxx: 2, gain.hair: 2, merry_go_round_cake_: 1, dawngiraffe: 5, erin9751: 2, gyu_0212: 1, 2_taek: 1, y_driosn: 1, water_of_dawn: 2, dajoyee: 1, shxi1234: 1, j_syoooun: 2, dessert39.anmyeondo: 3, angelicapatriciabarbosa: 1, hyuni_yeh: 1, euny_grace4: 1, kevin_wbwkz: 1, proofinder: 1, jph0wh: 1, graceeaston: 1, lovive.kr: 3, oes3793: 1, srooongs_: 1, hoonhoon_hotteok: 1, gullcentwoolfe1987: 1, dmitriy9sqd: 1, seung._.jong: 2, mcdillguhelvik3jh: 1, qhgxrufduj244: 1, lumkrfzeu: 1, ilikegymchalk: 2, figma_lion: 1, feiderrizvico: 1, kahucondfast1984: 1, omerarul1986: 1, anexxaver1982: 1, icheisyntdal1974: 1, cheliicjurov: 1, ersidexi4: 1, he_0ung_: 2, eupcheonri_busan_choeup: 2, img.bianan: 1, clasenprazec1976: 1, crazygrill0311: 1, research3340: 1, nice__ji: 1, yeongjin_01_28: 1\n",
      "Post 7 URL: https://www.instagram.com/p/CjYCpzCp6N4/ - Liked Users: ye.on._.06: 4, iam_ringkim: 1, _weekyear: 3, daye.__.n: 3, yunsrcd: 2, ieejyn: 5, zeonghye: 2, haeng_inthere: 4, kimchxxze: 1, seohyuuuuuun: 4, kmymyka: 5, r.hyej: 5, _dongni: 1, axxle.ah: 1, zwinhe: 6, mineral_ouo: 1, o0v0b: 4, cay_plo: 1, ssoo_jj: 1, am.3.00: 1, meuno._.o: 2, hye_rin811: 2, je_seong2: 3, ju_hee2_2: 1, seoha1203: 6, mellow_shhong: 1, yo_zheng21: 2, jixhyunie: 5, kk_imny: 2, haru_film_bp: 6, neejugram: 6, doublej_k: 1, ttkkkxx: 2, gain.hair: 2, merry_go_round_cake_: 1, dawngiraffe: 6, erin9751: 2, gyu_0212: 1, 2_taek: 1, y_driosn: 1, water_of_dawn: 2, dajoyee: 1, shxi1234: 1, j_syoooun: 2, dessert39.anmyeondo: 3, angelicapatriciabarbosa: 1, hyuni_yeh: 1, euny_grace4: 1, kevin_wbwkz: 1, proofinder: 1, jph0wh: 1, graceeaston: 1, lovive.kr: 4, oes3793: 1, srooongs_: 1, hoonhoon_hotteok: 1, gullcentwoolfe1987: 1, dmitriy9sqd: 1, seung._.jong: 2, mcdillguhelvik3jh: 1, qhgxrufduj244: 1, lumkrfzeu: 1, ilikegymchalk: 3, figma_lion: 1, feiderrizvico: 1, kahucondfast1984: 1, omerarul1986: 1, anexxaver1982: 1, icheisyntdal1974: 1, cheliicjurov: 1, ersidexi4: 1, he_0ung_: 3, eupcheonri_busan_choeup: 2, img.bianan: 1, clasenprazec1976: 1, crazygrill0311: 1, research3340: 1, nice__ji: 1, yeongjin_01_28: 1, mungmung_table: 1, lieto_firenze: 1, nummaa0001: 1, yoonbi_0122: 1\n",
      "Post 8 URL: https://www.instagram.com/p/ChuUZ2vJDar/ - Liked Users: ye.on._.06: 4, iam_ringkim: 1, _weekyear: 3, daye.__.n: 3, yunsrcd: 2, ieejyn: 6, zeonghye: 3, haeng_inthere: 4, kimchxxze: 1, seohyuuuuuun: 4, kmymyka: 5, r.hyej: 6, _dongni: 1, axxle.ah: 1, zwinhe: 7, mineral_ouo: 1, o0v0b: 5, cay_plo: 1, ssoo_jj: 1, am.3.00: 1, meuno._.o: 2, hye_rin811: 2, je_seong2: 3, ju_hee2_2: 1, seoha1203: 7, mellow_shhong: 1, yo_zheng21: 2, jixhyunie: 6, kk_imny: 3, haru_film_bp: 6, neejugram: 6, doublej_k: 1, ttkkkxx: 2, gain.hair: 2, merry_go_round_cake_: 1, dawngiraffe: 7, erin9751: 2, gyu_0212: 2, 2_taek: 1, y_driosn: 1, water_of_dawn: 2, dajoyee: 1, shxi1234: 1, j_syoooun: 3, dessert39.anmyeondo: 3, angelicapatriciabarbosa: 1, hyuni_yeh: 1, euny_grace4: 1, kevin_wbwkz: 1, proofinder: 1, jph0wh: 1, graceeaston: 1, lovive.kr: 5, oes3793: 1, srooongs_: 2, hoonhoon_hotteok: 1, gullcentwoolfe1987: 1, dmitriy9sqd: 1, seung._.jong: 2, mcdillguhelvik3jh: 1, qhgxrufduj244: 1, lumkrfzeu: 2, ilikegymchalk: 4, figma_lion: 1, feiderrizvico: 1, kahucondfast1984: 1, omerarul1986: 1, anexxaver1982: 1, icheisyntdal1974: 1, cheliicjurov: 1, ersidexi4: 1, he_0ung_: 3, eupcheonri_busan_choeup: 2, img.bianan: 1, clasenprazec1976: 1, crazygrill0311: 1, research3340: 1, nice__ji: 1, yeongjin_01_28: 1, mungmung_table: 2, lieto_firenze: 2, nummaa0001: 1, yoonbi_0122: 1, sum__s_: 1, xinamon: 1, se_hyun618: 1, do__yun__0: 1, owen_416969: 1\n",
      "Post 9 URL: https://www.instagram.com/p/CfB45BJLFd6/ - Liked Users: ye.on._.06: 4, iam_ringkim: 1, _weekyear: 3, daye.__.n: 4, yunsrcd: 2, ieejyn: 7, zeonghye: 4, haeng_inthere: 4, kimchxxze: 1, seohyuuuuuun: 5, kmymyka: 5, r.hyej: 7, _dongni: 1, axxle.ah: 1, zwinhe: 8, mineral_ouo: 1, o0v0b: 6, cay_plo: 1, ssoo_jj: 1, am.3.00: 1, meuno._.o: 2, hye_rin811: 2, je_seong2: 3, ju_hee2_2: 1, seoha1203: 8, mellow_shhong: 1, yo_zheng21: 2, jixhyunie: 7, kk_imny: 4, haru_film_bp: 6, neejugram: 6, doublej_k: 1, ttkkkxx: 3, gain.hair: 2, merry_go_round_cake_: 1, dawngiraffe: 8, erin9751: 3, gyu_0212: 3, 2_taek: 1, y_driosn: 1, water_of_dawn: 2, dajoyee: 1, shxi1234: 1, j_syoooun: 3, dessert39.anmyeondo: 3, angelicapatriciabarbosa: 1, hyuni_yeh: 1, euny_grace4: 1, kevin_wbwkz: 1, proofinder: 2, jph0wh: 1, graceeaston: 1, lovive.kr: 6, oes3793: 1, srooongs_: 3, hoonhoon_hotteok: 1, gullcentwoolfe1987: 1, dmitriy9sqd: 1, seung._.jong: 2, mcdillguhelvik3jh: 1, qhgxrufduj244: 1, lumkrfzeu: 3, ilikegymchalk: 5, figma_lion: 1, feiderrizvico: 1, kahucondfast1984: 1, omerarul1986: 1, anexxaver1982: 1, icheisyntdal1974: 1, cheliicjurov: 1, ersidexi4: 1, he_0ung_: 3, eupcheonri_busan_choeup: 2, img.bianan: 1, clasenprazec1976: 1, crazygrill0311: 1, research3340: 1, nice__ji: 1, yeongjin_01_28: 1, mungmung_table: 3, lieto_firenze: 3, nummaa0001: 1, yoonbi_0122: 1, sum__s_: 2, xinamon: 1, se_hyun618: 1, do__yun__0: 2, owen_416969: 1, udaunii: 1, bello_qq: 1, si_nae2: 1, tange.erine: 1, jaew0___0: 1, nam.seungyoon: 1, iluvallsport: 1, 99_0113: 1, qaz11299: 1, jeong.yu_jin: 1, tennis_sangs: 1, sungil_world: 1, lullului: 1, isohee_0: 1, posh_hyxjxn: 1\n",
      "Post 10 URL: https://www.instagram.com/p/Cb75hNbJlE7/ - Liked Users: ye.on._.06: 4, iam_ringkim: 1, _weekyear: 4, daye.__.n: 4, yunsrcd: 2, ieejyn: 7, zeonghye: 5, haeng_inthere: 4, kimchxxze: 1, seohyuuuuuun: 6, kmymyka: 5, r.hyej: 8, _dongni: 2, axxle.ah: 1, zwinhe: 9, mineral_ouo: 1, o0v0b: 7, cay_plo: 1, ssoo_jj: 1, am.3.00: 1, meuno._.o: 2, hye_rin811: 2, je_seong2: 3, ju_hee2_2: 1, seoha1203: 9, mellow_shhong: 1, yo_zheng21: 2, jixhyunie: 8, kk_imny: 5, haru_film_bp: 7, neejugram: 6, doublej_k: 1, ttkkkxx: 3, gain.hair: 2, merry_go_round_cake_: 1, dawngiraffe: 9, erin9751: 4, gyu_0212: 4, 2_taek: 1, y_driosn: 1, water_of_dawn: 2, dajoyee: 1, shxi1234: 1, j_syoooun: 3, dessert39.anmyeondo: 3, angelicapatriciabarbosa: 1, hyuni_yeh: 1, euny_grace4: 1, kevin_wbwkz: 1, proofinder: 3, jph0wh: 2, graceeaston: 1, lovive.kr: 6, oes3793: 1, srooongs_: 4, hoonhoon_hotteok: 1, gullcentwoolfe1987: 1, dmitriy9sqd: 1, seung._.jong: 2, mcdillguhelvik3jh: 1, qhgxrufduj244: 1, lumkrfzeu: 3, ilikegymchalk: 6, figma_lion: 1, feiderrizvico: 1, kahucondfast1984: 1, omerarul1986: 1, anexxaver1982: 1, icheisyntdal1974: 1, cheliicjurov: 1, ersidexi4: 1, he_0ung_: 4, eupcheonri_busan_choeup: 2, img.bianan: 1, clasenprazec1976: 1, crazygrill0311: 1, research3340: 1, nice__ji: 2, yeongjin_01_28: 1, mungmung_table: 3, lieto_firenze: 4, nummaa0001: 1, yoonbi_0122: 1, sum__s_: 2, xinamon: 1, se_hyun618: 1, do__yun__0: 3, owen_416969: 1, udaunii: 1, bello_qq: 2, si_nae2: 2, tange.erine: 2, jaew0___0: 1, nam.seungyoon: 2, iluvallsport: 1, 99_0113: 1, qaz11299: 1, jeong.yu_jin: 1, tennis_sangs: 2, sungil_world: 1, lullului: 1, isohee_0: 1, posh_hyxjxn: 1, chen.jae: 1, munee_e: 1, ji_e.s: 1, ya_autiful: 1, 162.s.s: 1, hiyaquin: 1, zee.eji: 1, sozm_sy: 1, rgbphotostudio_bp: 1\n"
     ]
    }
   ],
   "source": [
    "def main():\n",
    "    # 검색할 사용자 계정 입력\n",
    "    # TODO: 프론트엔드와 연결해서 사용자 입력 받는 걸로 수정\n",
    "    user_account = 'seoha1203' #좋아요+게시글+릴스 계정\n",
    "    #user_account = 'rmqdid' #좋아요+게시글 계정\n",
    "    #user_account = '5steamtest' #좋아요 없는 계정\n",
    "    #user_account = '5steam0925' #게시글 없는 계정\n",
    "\n",
    "    # 드라이버 초기화 및 로그인\n",
    "    driver = init_driver()\n",
    "    insta_login(driver, username, password)\n",
    "\n",
    "    # 사용자 계정 검색\n",
    "    insta_search_user(driver, user_account)\n",
    "    # TODO: 검색할 계정에 있는 게시물 수 확인\n",
    "    contents_num = 10 #해당 계정 게시물 수 몇 개 있는지에 따라 제한 필요\n",
    "    \n",
    "    # 최근 게시물에서 좋아요 및 댓글을 단 사용자 목록 가져오기  \n",
    "    liked_users = get_likes(driver, contents_num, user_account)\n",
    "    #for key, value in liked_users.items():\n",
    "    #    print(f'{key}: {value}')\n",
    "    # TODO: 시각화 할 때 user_account 는 걸러야함\n",
    "    \n",
    "    # 완료 후 드라이버 종료\n",
    "    time.sleep(5)  # 확인용 대기\n",
    "    driver.quit()  # 드라이버 종료\n",
    "\n",
    "if __name__ == \"__main__\":\n",
    "    main()"
   ]
  },
  {
   "cell_type": "markdown",
   "metadata": {},
   "source": [
    "----"
   ]
  },
  {
   "cell_type": "code",
   "execution_count": null,
   "metadata": {},
   "outputs": [],
   "source": [
    "print()"
   ]
  },
  {
   "cell_type": "markdown",
   "metadata": {},
   "source": [
    "아래는 각 함수 편하게 테스트 하려고 블럭 생성해 놓은 것"
   ]
  },
  {
   "cell_type": "code",
   "execution_count": 31,
   "metadata": {},
   "outputs": [],
   "source": [
    "chrome_options = Options()\n",
    "chrome_options.add_argument(\"user-agent=Mozilla/5.0 (Macintosh; Intel Mac OS X 10_15_4) AppleWebKit/537.36 (KHTML, like Gecko) Chrome/83.0.4103.97 Safari/537.36\")\n",
    "driver = webdriver.Chrome(service=Service(ChromeDriverManager().install()), options=chrome_options)\n",
    "\n",
    "driver.get('https://www.instagram.com/accounts/login/')\n",
    "    \n",
    "# 로그인 대기\n",
    "WebDriverWait(driver, 10).until(EC.presence_of_element_located((By.NAME, 'username')))\n",
    "username_input = driver.find_element(By.NAME, 'username')\n",
    "password_input = driver.find_element(By.NAME, 'password')\n",
    "\n",
    "# 로그인 정보 입력 및 로그인 버튼 클릭\n",
    "username_input.send_keys(username)\n",
    "password_input.send_keys(password)\n",
    "password_input.send_keys(Keys.RETURN)\n",
    "time.sleep(10)  # 페이지 로드 대기\n",
    "\n",
    "user_account = 'rmqdid'\n",
    "profile_url = f\"https://www.instagram.com/{user_account}/\"\n",
    "driver.get(profile_url)\n",
    "time.sleep(3)  # 프로필 로드 대기\n"
   ]
  },
  {
   "cell_type": "code",
   "execution_count": 170,
   "metadata": {},
   "outputs": [
    {
     "name": "stdout",
     "output_type": "stream",
     "text": [
      "Post 1 URL: https://www.instagram.com/p/DBAo18DPanG/ - Liked Users: chicken_mukgoshipda: 1, shyang0201: 1, tladbwls: 1, ibbi_nu: 1, sinj0916: 1, xeun.j: 1, yc_booktong: 1, hxj.o55: 1, yangyunseo02: 1, gno.ono: 1, o_gm__: 1, k_5hun: 1, chaseifucan: 1, woomin_0319: 1, m.xs0l: 1, this_wns: 1, _sxxhxxn_: 1, soeasy0104: 1, charis_to_mas: 1, jjungyui2: 1, song9l3: 1, aga_mandu: 1, fzrxxe: 1, zzl0g: 1, dhonne.z: 1, hxin.1e: 1, yxxj_h27: 1, civilian2121: 1, i_ji_you: 1, rla_minwoo: 1, naeunii_o.o: 1, jx_hegea.11: 1, j__da2: 1, riharibo: 1, zmin.v: 1, hebehfub: 1, seolraim1234: 1, h._.jin75: 1, iheeibee: 1, min_g001: 1, bo0u.10: 1, seo._y5: 1, topazung: 1, suwon.sexking: 1, shh._560: 1, j1._.h0on: 1, aze.n_12: 1, jeje_parkk: 1, tothenextround: 1, doicrossyourmind: 1, chng_oo: 1, kx._yn: 1, _eun_i__: 1, lovwe_.x: 1, jennyeoni: 1, intno.sohyang: 1, ex._.yun: 1, so_0.0b: 1, s._._.m1n: 1, hx.zyn0: 1, hayxji: 1, yjsyj_: 1, u0re.1: 1, 010_64x1_3xx9: 1, su._.sue_: 1, jinhee__0506: 1, somuch._.ing: 1, 1ovuhe: 1, its.upintheair: 1, whtnrud: 1, w0_0zin_: 1, gyuyu_chandesu: 1, byeolha130920: 1, hye_ggv._.v: 1, ovxrthw: 1, tk_wybmom: 1, byebyemybluedream: 1, lwheoy: 1, syuni_08: 1, lu.pak_xx: 1, westziin: 1, kono.mijuda: 1, s._.hyon0410: 1, yeoyudann: 1, yxxe_2: 1, jisui862: 1, se_h09: 1, m.jay_15: 1, br.ee3724: 1, wnivor_: 1, _mydiary.6: 1, mna_12o1: 1\n",
      "Post 2 URL: https://www.instagram.com/p/DA2OhoXPB8X/ - Liked Users: chicken_mukgoshipda: 1, shyang0201: 1, tladbwls: 1, ibbi_nu: 1, sinj0916: 1, xeun.j: 1, yc_booktong: 1, hxj.o55: 1, yangyunseo02: 1, gno.ono: 1, o_gm__: 1, k_5hun: 1, chaseifucan: 1, woomin_0319: 1, m.xs0l: 1, this_wns: 1, _sxxhxxn_: 1, soeasy0104: 1, charis_to_mas: 1, jjungyui2: 1, song9l3: 1, aga_mandu: 1, fzrxxe: 1, zzl0g: 1, dhonne.z: 1, hxin.1e: 1, yxxj_h27: 1, civilian2121: 1, i_ji_you: 1, rla_minwoo: 1, naeunii_o.o: 1, jx_hegea.11: 1, j__da2: 1, riharibo: 1, zmin.v: 1, hebehfub: 1, seolraim1234: 1, h._.jin75: 1, iheeibee: 1, min_g001: 1, bo0u.10: 1, seo._y5: 1, topazung: 1, suwon.sexking: 1, shh._560: 1, j1._.h0on: 1, aze.n_12: 1, jeje_parkk: 1, tothenextround: 1, doicrossyourmind: 1, chng_oo: 1, kx._yn: 1, _eun_i__: 1, lovwe_.x: 1, jennyeoni: 1, intno.sohyang: 1, ex._.yun: 1, so_0.0b: 1, s._._.m1n: 1, hx.zyn0: 1, hayxji: 1, yjsyj_: 1, u0re.1: 1, 010_64x1_3xx9: 1, su._.sue_: 1, jinhee__0506: 1, somuch._.ing: 1, 1ovuhe: 1, its.upintheair: 1, whtnrud: 1, w0_0zin_: 1, gyuyu_chandesu: 1, byeolha130920: 1, hye_ggv._.v: 1, ovxrthw: 1, tk_wybmom: 1, byebyemybluedream: 1, lwheoy: 1, syuni_08: 1, lu.pak_xx: 1, westziin: 1, kono.mijuda: 1, s._.hyon0410: 1, yeoyudann: 1, yxxe_2: 1, jisui862: 1, se_h09: 1, m.jay_15: 1, br.ee3724: 1, wnivor_: 1, _mydiary.6: 1, mna_12o1: 1, shizukana__kaze: 1, flo.bymonet: 1, junhada0_4: 1, oaoxs24: 1, ye_omd0904: 1, hyemimi_00: 1, yunhae.king: 1, qhrjstlf061: 1, yxu.6x: 1, xaehuxn: 1, mardennam: 1, codus0y: 1, hee_hee_sung: 1, travel_taegyu: 1, into_h_universe: 1, vnfwnrdms_tlrmacl: 1, m.e0o_o0: 1, do_0mchitchit: 1, woooki._.boooki: 1, chaewonhyun_3: 1, h_xorhs: 1, ch.wxn__: 1, waiting_for_the_2025: 1, 0zoo0e: 1, thumb_min_1: 1, _noky__: 1, als__0112: 1, rlling.fx_: 1, seuzukoi: 1, alex.h_213: 1, xotksdk: 1, yeahrangutan: 1, 02da_7: 1, gimyangho90: 1, hargangang_hk: 1, kkb_latria: 1, uexyo: 1, ha_glass00: 1, d.o.g_stagram: 1, kdopna: 1, junpy__o: 1, x_binnn: 1, jooououuou: 1, catnergy: 1, riahn_80: 1, yhj0905: 1, ajjumi0902: 1, xeuironkye: 1, m.yendlessblue_: 1, ju._.no315: 1, ju_you_ng: 1, jiin9_0313: 1, s0l.u_jin: 1, rangsa0904: 1, alicelove706: 1, _3e0voon_: 1, 0_dasong: 1, qm_wjol.orl: 1, an.account_park: 1, milllllligram: 1, seo.jaecan: 1, pangpang5c: 1, a.n_owl_: 1, __h.de: 1, xn_xff._0910: 1, hgxn_oo.7: 1, seoyeon._.0426: 1, _viola_pansy_: 1, hs_is_not_human: 1, juchan_0818: 1, h3m__m: 1, dxn.y1_: 1, _mulldozer_: 1, kuroviolet963_: 1, jiancoe_74: 1, jhj12784: 1, yhk_jsj.aha: 1, yunsita_415: 1, jinyu0rgnew: 1, xodxodxo: 1, jw_____k07: 1, lifes_like_jazzyfact: 1, eumaytwt: 1, 3827_57xx: 1, compfort_sn: 1, vu_0lll: 1, onoyoonoy: 1, minbostudy: 1, ruhxun_: 1, serin_wtp_: 1, suuuuuuuuuuuuubiin: 1, kyulim06: 1, cantsleeeeeeep_zz: 1, 0lo2krj: 1, hw_is_free: 1, sxhdraw: 1, garden_stone_: 1, handk1109: 1\n",
      "Post 3 URL: https://www.instagram.com/p/DAr92OkP_7o/ - Liked Users: chicken_mukgoshipda: 1, shyang0201: 1, tladbwls: 1, ibbi_nu: 1, sinj0916: 1, xeun.j: 1, yc_booktong: 1, hxj.o55: 1, yangyunseo02: 1, gno.ono: 1, o_gm__: 1, k_5hun: 1, chaseifucan: 1, woomin_0319: 1, m.xs0l: 1, this_wns: 1, _sxxhxxn_: 1, soeasy0104: 1, charis_to_mas: 1, jjungyui2: 1, song9l3: 1, aga_mandu: 1, fzrxxe: 1, zzl0g: 1, dhonne.z: 1, hxin.1e: 1, yxxj_h27: 1, civilian2121: 1, i_ji_you: 1, rla_minwoo: 1, naeunii_o.o: 1, jx_hegea.11: 1, j__da2: 1, riharibo: 1, zmin.v: 1, hebehfub: 1, seolraim1234: 1, h._.jin75: 1, iheeibee: 1, min_g001: 1, bo0u.10: 1, seo._y5: 1, topazung: 1, suwon.sexking: 1, shh._560: 1, j1._.h0on: 1, aze.n_12: 1, jeje_parkk: 1, tothenextround: 1, doicrossyourmind: 1, chng_oo: 1, kx._yn: 1, _eun_i__: 1, lovwe_.x: 1, jennyeoni: 1, intno.sohyang: 1, ex._.yun: 1, so_0.0b: 1, s._._.m1n: 1, hx.zyn0: 1, hayxji: 1, yjsyj_: 1, u0re.1: 1, 010_64x1_3xx9: 1, su._.sue_: 1, jinhee__0506: 1, somuch._.ing: 1, 1ovuhe: 1, its.upintheair: 1, whtnrud: 1, w0_0zin_: 1, gyuyu_chandesu: 1, byeolha130920: 1, hye_ggv._.v: 1, ovxrthw: 1, tk_wybmom: 1, byebyemybluedream: 1, lwheoy: 1, syuni_08: 1, lu.pak_xx: 1, westziin: 1, kono.mijuda: 1, s._.hyon0410: 1, yeoyudann: 1, yxxe_2: 1, jisui862: 1, se_h09: 1, m.jay_15: 1, br.ee3724: 1, wnivor_: 1, _mydiary.6: 1, mna_12o1: 1, shizukana__kaze: 1, flo.bymonet: 1, junhada0_4: 1, oaoxs24: 1, ye_omd0904: 1, hyemimi_00: 1, yunhae.king: 1, qhrjstlf061: 1, yxu.6x: 1, xaehuxn: 1, mardennam: 1, codus0y: 1, hee_hee_sung: 1, travel_taegyu: 1, into_h_universe: 1, vnfwnrdms_tlrmacl: 1, m.e0o_o0: 1, do_0mchitchit: 1, woooki._.boooki: 1, chaewonhyun_3: 1, h_xorhs: 1, ch.wxn__: 1, waiting_for_the_2025: 1, 0zoo0e: 1, thumb_min_1: 1, _noky__: 1, als__0112: 1, rlling.fx_: 1, seuzukoi: 1, alex.h_213: 1, xotksdk: 1, yeahrangutan: 1, 02da_7: 1, gimyangho90: 1, hargangang_hk: 1, kkb_latria: 1, uexyo: 1, ha_glass00: 2, d.o.g_stagram: 1, kdopna: 2, junpy__o: 1, x_binnn: 1, jooououuou: 1, catnergy: 1, riahn_80: 1, yhj0905: 1, ajjumi0902: 1, xeuironkye: 1, m.yendlessblue_: 2, ju._.no315: 1, ju_you_ng: 1, jiin9_0313: 1, s0l.u_jin: 1, rangsa0904: 1, alicelove706: 1, _3e0voon_: 1, 0_dasong: 1, qm_wjol.orl: 1, an.account_park: 1, milllllligram: 2, seo.jaecan: 1, pangpang5c: 1, a.n_owl_: 1, __h.de: 1, xn_xff._0910: 1, hgxn_oo.7: 1, seoyeon._.0426: 1, _viola_pansy_: 1, hs_is_not_human: 1, juchan_0818: 1, h3m__m: 2, dxn.y1_: 2, _mulldozer_: 1, kuroviolet963_: 1, jiancoe_74: 1, jhj12784: 1, yhk_jsj.aha: 1, yunsita_415: 1, jinyu0rgnew: 1, xodxodxo: 1, jw_____k07: 1, lifes_like_jazzyfact: 2, eumaytwt: 1, 3827_57xx: 1, compfort_sn: 1, vu_0lll: 1, onoyoonoy: 1, minbostudy: 1, ruhxun_: 1, serin_wtp_: 1, suuuuuuuuuuuuubiin: 2, kyulim06: 1, cantsleeeeeeep_zz: 1, 0lo2krj: 1, hw_is_free: 1, sxhdraw: 2, garden_stone_: 1, handk1109: 1, qoralstj8: 1, kjw06123: 1, rebta_nah: 1, yxb1_.n: 1, allulakallatolla: 1, o6eo_33e: 1, yxurmysecret: 1, oricatmeow: 1, nxy._.ha: 1, yeongjae63: 1, oz.zin: 1, eun_young0626: 1, deguru_ru: 1, cocoa_sumin: 1, gusdn.04: 1, k_sy_bari: 1, s50ng._.indeyo: 1, eunseol1106: 1, puring9_: 1, hxx_s.08: 1, 3m_c1n: 1, jjeommin_ee: 1, axthx1: 1, neondeong: 1, e___astern: 1, jllas_: 1, 0_ibb_: 1, hyelim544: 1, u1e.k: 1, yun2se6o: 1, ooo7_ee: 1, lsb0306_: 1, u_jin.0720: 1, _ujnim_krap: 1, jsminmeorii: 1, lroeun_5: 1, se_hyun0725: 1, 4evero1: 1, hyo_.jaee: 1, r.zyg_: 1, 12431.1: 1, s1x.mn: 1, hwangjinwu9983: 1, eonxvd: 1, mini_cha.n: 1, yyjjj333: 1, stpgns: 1, o_my02: 1, hi.ro___1.6: 1, ijayu7: 1, high0_0_: 1, isean0817: 1, h.vern1: 1, cjnabsjsk: 1, ahn_pig: 1, ch.j_16: 1, chaa_rlo111: 1, suu__._.crystal: 1, godbsdlqkqh: 1, jeong_siyoon: 1, hhhwwonn: 1, mo.on_207: 1, yoonddo_life: 1, twerking_cheerfully: 1, wjdtjrdud_: 1, nosisilver: 1, jiminyu66: 1, jhmo4: 1, hnh._.1072: 1, deogjil_leo: 1, xiar_hb: 1, chang_wr: 1, dangerousmanjungjiwon: 1, wnhalee: 1, y__oyat: 1, gangdaryun: 1, bgslmx: 1, window_installation: 1, iain5596: 1, hxyn_0116: 1\n",
      "Post 4 URL: https://www.instagram.com/p/DAhm8g7v27N/ - Liked Users: chicken_mukgoshipda: 1, shyang0201: 1, tladbwls: 1, ibbi_nu: 1, sinj0916: 1, xeun.j: 1, yc_booktong: 1, hxj.o55: 1, yangyunseo02: 1, gno.ono: 1, o_gm__: 1, k_5hun: 1, chaseifucan: 1, woomin_0319: 1, m.xs0l: 1, this_wns: 1, _sxxhxxn_: 1, soeasy0104: 1, charis_to_mas: 1, jjungyui2: 1, song9l3: 1, aga_mandu: 1, fzrxxe: 1, zzl0g: 1, dhonne.z: 1, hxin.1e: 1, yxxj_h27: 1, civilian2121: 1, i_ji_you: 1, rla_minwoo: 1, naeunii_o.o: 1, jx_hegea.11: 1, j__da2: 1, riharibo: 1, zmin.v: 1, hebehfub: 1, seolraim1234: 1, h._.jin75: 1, iheeibee: 1, min_g001: 1, bo0u.10: 1, seo._y5: 1, topazung: 1, suwon.sexking: 1, shh._560: 1, j1._.h0on: 1, aze.n_12: 1, jeje_parkk: 1, tothenextround: 1, doicrossyourmind: 1, chng_oo: 1, kx._yn: 1, _eun_i__: 1, lovwe_.x: 1, jennyeoni: 1, intno.sohyang: 1, ex._.yun: 1, so_0.0b: 1, s._._.m1n: 1, hx.zyn0: 1, hayxji: 1, yjsyj_: 1, u0re.1: 1, 010_64x1_3xx9: 1, su._.sue_: 1, jinhee__0506: 1, somuch._.ing: 1, 1ovuhe: 1, its.upintheair: 1, whtnrud: 1, w0_0zin_: 1, gyuyu_chandesu: 1, byeolha130920: 1, hye_ggv._.v: 1, ovxrthw: 1, tk_wybmom: 1, byebyemybluedream: 1, lwheoy: 1, syuni_08: 1, lu.pak_xx: 1, westziin: 1, kono.mijuda: 1, s._.hyon0410: 1, yeoyudann: 1, yxxe_2: 1, jisui862: 1, se_h09: 1, m.jay_15: 1, br.ee3724: 1, wnivor_: 1, _mydiary.6: 1, mna_12o1: 1, shizukana__kaze: 1, flo.bymonet: 1, junhada0_4: 1, oaoxs24: 1, ye_omd0904: 1, hyemimi_00: 1, yunhae.king: 1, qhrjstlf061: 1, yxu.6x: 1, xaehuxn: 1, mardennam: 1, codus0y: 1, hee_hee_sung: 1, travel_taegyu: 1, into_h_universe: 1, vnfwnrdms_tlrmacl: 1, m.e0o_o0: 1, do_0mchitchit: 1, woooki._.boooki: 1, chaewonhyun_3: 1, h_xorhs: 1, ch.wxn__: 1, waiting_for_the_2025: 1, 0zoo0e: 1, thumb_min_1: 1, _noky__: 1, als__0112: 1, rlling.fx_: 1, seuzukoi: 1, alex.h_213: 1, xotksdk: 1, yeahrangutan: 1, 02da_7: 1, gimyangho90: 1, hargangang_hk: 1, kkb_latria: 1, uexyo: 1, ha_glass00: 3, d.o.g_stagram: 1, kdopna: 2, junpy__o: 1, x_binnn: 1, jooououuou: 1, catnergy: 1, riahn_80: 1, yhj0905: 1, ajjumi0902: 1, xeuironkye: 1, m.yendlessblue_: 3, ju._.no315: 1, ju_you_ng: 1, jiin9_0313: 1, s0l.u_jin: 1, rangsa0904: 1, alicelove706: 1, _3e0voon_: 1, 0_dasong: 1, qm_wjol.orl: 1, an.account_park: 1, milllllligram: 3, seo.jaecan: 1, pangpang5c: 1, a.n_owl_: 1, __h.de: 1, xn_xff._0910: 1, hgxn_oo.7: 1, seoyeon._.0426: 1, _viola_pansy_: 1, hs_is_not_human: 1, juchan_0818: 1, h3m__m: 2, dxn.y1_: 2, _mulldozer_: 1, kuroviolet963_: 1, jiancoe_74: 1, jhj12784: 1, yhk_jsj.aha: 1, yunsita_415: 1, jinyu0rgnew: 1, xodxodxo: 1, jw_____k07: 1, lifes_like_jazzyfact: 2, eumaytwt: 2, 3827_57xx: 1, compfort_sn: 1, vu_0lll: 1, onoyoonoy: 1, minbostudy: 1, ruhxun_: 1, serin_wtp_: 1, suuuuuuuuuuuuubiin: 3, kyulim06: 1, cantsleeeeeeep_zz: 1, 0lo2krj: 1, hw_is_free: 1, sxhdraw: 2, garden_stone_: 1, handk1109: 1, qoralstj8: 1, kjw06123: 1, rebta_nah: 1, yxb1_.n: 1, allulakallatolla: 1, o6eo_33e: 1, yxurmysecret: 1, oricatmeow: 1, nxy._.ha: 1, yeongjae63: 1, oz.zin: 2, eun_young0626: 1, deguru_ru: 1, cocoa_sumin: 1, gusdn.04: 1, k_sy_bari: 1, s50ng._.indeyo: 1, eunseol1106: 1, puring9_: 1, hxx_s.08: 1, 3m_c1n: 1, jjeommin_ee: 1, axthx1: 1, neondeong: 1, e___astern: 1, jllas_: 1, 0_ibb_: 1, hyelim544: 1, u1e.k: 1, yun2se6o: 1, ooo7_ee: 1, lsb0306_: 1, u_jin.0720: 2, _ujnim_krap: 2, jsminmeorii: 1, lroeun_5: 1, se_hyun0725: 1, 4evero1: 1, hyo_.jaee: 1, r.zyg_: 1, 12431.1: 1, s1x.mn: 1, hwangjinwu9983: 1, eonxvd: 1, mini_cha.n: 1, yyjjj333: 1, stpgns: 1, o_my02: 1, hi.ro___1.6: 1, ijayu7: 1, high0_0_: 1, isean0817: 2, h.vern1: 1, cjnabsjsk: 1, ahn_pig: 1, ch.j_16: 1, chaa_rlo111: 1, suu__._.crystal: 1, godbsdlqkqh: 1, jeong_siyoon: 1, hhhwwonn: 1, mo.on_207: 1, yoonddo_life: 1, twerking_cheerfully: 1, wjdtjrdud_: 1, nosisilver: 1, jiminyu66: 1, jhmo4: 1, hnh._.1072: 1, deogjil_leo: 1, xiar_hb: 1, chang_wr: 1, dangerousmanjungjiwon: 1, wnhalee: 1, y__oyat: 1, gangdaryun: 1, bgslmx: 1, window_installation: 1, iain5596: 1, hxyn_0116: 1, so_de_light: 1, mediciacne: 1, jocheon_story: 1, flycat_0329: 1, form.yujin: 1, gyeongrin.lee: 1, velyyni: 1, misutkaruisgood: 1, soye436: 1, m._.suxg: 1, cnmxoy: 1, minseo_____o: 1, kimsk_4774: 1, gangyang_0: 1, cha_yulmon: 1, h___vlin: 1, lmfao_ag: 1, tmdals1103: 1, minxxiiy: 1, milkyway0529: 1, thatsnotyourfault_: 1, gkssnf1: 1, auddptmf: 1, yun.3z: 1, uddun.calli: 1, jeonsmallsmell: 1, _kaer.u: 1, ckrit67: 1, woo_soon2: 1, ye_5e0.10: 1, hi_.ring: 1, nayvibe: 1, toy_story._.v: 1, ancofpia: 1, oyatcolouryin: 1, taeho_320: 1, tuna_omong: 1, jjwwon516: 1, kimvolah: 1, sarnag111: 1, wiwi_wi93: 1, kwxseo_: 1, xiho.olee: 1, iph__________y: 1, blissli_h: 1, inseoul_please: 1, pe2niet_: 1, l_j_kite: 1, tngus1224: 1, ha_eun0902: 1, munvie_: 1, rkheun679: 1, prksngj: 1, cho_0.ahyun: 1, zinzzayong: 1, jud.y5531: 1, 0mrha: 1, m.0_0.m_y: 1, imovoll: 1, dawn.ontherocks: 1, m.hye1118: 1, xonacado: 1, clair_de._.lune05: 1, jeon9un: 1, ijaein507: 1, nanx7_7i: 1, 2homes41kid: 1, noahh_173: 1, isthishyuk__: 1, iromxotnemem: 1, mii1n._.08: 1, theoldsoulyeah: 1, urin_ch0i: 1, rudnf_thsu: 1, youuuu_._: 1, mungchi0401: 1, nagajuseyohonjaitgo: 1, haepari.c_x: 1, leesuin_8512: 1, jxxexx_: 1, hi.haesol: 1, jinzza_shin_na: 1\n",
      "Post 5 URL: https://www.instagram.com/p/DAXT2j8zTno/ - Liked Users: chicken_mukgoshipda: 1, shyang0201: 1, tladbwls: 1, ibbi_nu: 1, sinj0916: 1, xeun.j: 1, yc_booktong: 1, hxj.o55: 1, yangyunseo02: 1, gno.ono: 1, o_gm__: 1, k_5hun: 1, chaseifucan: 1, woomin_0319: 1, m.xs0l: 1, this_wns: 1, _sxxhxxn_: 1, soeasy0104: 1, charis_to_mas: 1, jjungyui2: 1, song9l3: 1, aga_mandu: 1, fzrxxe: 1, zzl0g: 1, dhonne.z: 1, hxin.1e: 1, yxxj_h27: 1, civilian2121: 1, i_ji_you: 1, rla_minwoo: 1, naeunii_o.o: 1, jx_hegea.11: 1, j__da2: 1, riharibo: 1, zmin.v: 1, hebehfub: 1, seolraim1234: 1, h._.jin75: 1, iheeibee: 1, min_g001: 1, bo0u.10: 1, seo._y5: 1, topazung: 1, suwon.sexking: 1, shh._560: 1, j1._.h0on: 1, aze.n_12: 1, jeje_parkk: 1, tothenextround: 1, doicrossyourmind: 1, chng_oo: 1, kx._yn: 1, _eun_i__: 1, lovwe_.x: 1, jennyeoni: 1, intno.sohyang: 1, ex._.yun: 1, so_0.0b: 1, s._._.m1n: 1, hx.zyn0: 1, hayxji: 1, yjsyj_: 1, u0re.1: 1, 010_64x1_3xx9: 1, su._.sue_: 1, jinhee__0506: 1, somuch._.ing: 1, 1ovuhe: 1, its.upintheair: 1, whtnrud: 1, w0_0zin_: 1, gyuyu_chandesu: 1, byeolha130920: 1, hye_ggv._.v: 1, ovxrthw: 1, tk_wybmom: 1, byebyemybluedream: 1, lwheoy: 1, syuni_08: 1, lu.pak_xx: 1, westziin: 1, kono.mijuda: 1, s._.hyon0410: 1, yeoyudann: 1, yxxe_2: 1, jisui862: 1, se_h09: 1, m.jay_15: 1, br.ee3724: 1, wnivor_: 1, _mydiary.6: 1, mna_12o1: 1, shizukana__kaze: 1, flo.bymonet: 1, junhada0_4: 1, oaoxs24: 1, ye_omd0904: 1, hyemimi_00: 1, yunhae.king: 1, qhrjstlf061: 1, yxu.6x: 1, xaehuxn: 1, mardennam: 1, codus0y: 1, hee_hee_sung: 1, travel_taegyu: 1, into_h_universe: 1, vnfwnrdms_tlrmacl: 1, m.e0o_o0: 1, do_0mchitchit: 1, woooki._.boooki: 1, chaewonhyun_3: 1, h_xorhs: 1, ch.wxn__: 1, waiting_for_the_2025: 1, 0zoo0e: 1, thumb_min_1: 1, _noky__: 1, als__0112: 1, rlling.fx_: 1, seuzukoi: 1, alex.h_213: 1, xotksdk: 1, yeahrangutan: 1, 02da_7: 1, gimyangho90: 1, hargangang_hk: 1, kkb_latria: 1, uexyo: 1, ha_glass00: 3, d.o.g_stagram: 1, kdopna: 2, junpy__o: 1, x_binnn: 1, jooououuou: 1, catnergy: 1, riahn_80: 1, yhj0905: 1, ajjumi0902: 1, xeuironkye: 1, m.yendlessblue_: 3, ju._.no315: 1, ju_you_ng: 1, jiin9_0313: 1, s0l.u_jin: 1, rangsa0904: 1, alicelove706: 1, _3e0voon_: 1, 0_dasong: 1, qm_wjol.orl: 1, an.account_park: 1, milllllligram: 3, seo.jaecan: 1, pangpang5c: 1, a.n_owl_: 1, __h.de: 1, xn_xff._0910: 1, hgxn_oo.7: 1, seoyeon._.0426: 1, _viola_pansy_: 1, hs_is_not_human: 1, juchan_0818: 1, h3m__m: 2, dxn.y1_: 2, _mulldozer_: 1, kuroviolet963_: 1, jiancoe_74: 1, jhj12784: 1, yhk_jsj.aha: 1, yunsita_415: 1, jinyu0rgnew: 1, xodxodxo: 1, jw_____k07: 1, lifes_like_jazzyfact: 2, eumaytwt: 2, 3827_57xx: 1, compfort_sn: 1, vu_0lll: 1, onoyoonoy: 1, minbostudy: 1, ruhxun_: 1, serin_wtp_: 1, suuuuuuuuuuuuubiin: 4, kyulim06: 1, cantsleeeeeeep_zz: 1, 0lo2krj: 1, hw_is_free: 1, sxhdraw: 2, garden_stone_: 1, handk1109: 1, qoralstj8: 1, kjw06123: 1, rebta_nah: 1, yxb1_.n: 1, allulakallatolla: 1, o6eo_33e: 2, yxurmysecret: 1, oricatmeow: 1, nxy._.ha: 1, yeongjae63: 1, oz.zin: 2, eun_young0626: 1, deguru_ru: 1, cocoa_sumin: 1, gusdn.04: 1, k_sy_bari: 1, s50ng._.indeyo: 1, eunseol1106: 1, puring9_: 1, hxx_s.08: 1, 3m_c1n: 1, jjeommin_ee: 1, axthx1: 1, neondeong: 1, e___astern: 1, jllas_: 1, 0_ibb_: 1, hyelim544: 1, u1e.k: 1, yun2se6o: 1, ooo7_ee: 1, lsb0306_: 1, u_jin.0720: 2, _ujnim_krap: 2, jsminmeorii: 1, lroeun_5: 1, se_hyun0725: 1, 4evero1: 1, hyo_.jaee: 1, r.zyg_: 1, 12431.1: 1, s1x.mn: 1, hwangjinwu9983: 1, eonxvd: 1, mini_cha.n: 1, yyjjj333: 1, stpgns: 1, o_my02: 1, hi.ro___1.6: 1, ijayu7: 1, high0_0_: 1, isean0817: 2, h.vern1: 1, cjnabsjsk: 1, ahn_pig: 1, ch.j_16: 1, chaa_rlo111: 1, suu__._.crystal: 1, godbsdlqkqh: 1, jeong_siyoon: 1, hhhwwonn: 1, mo.on_207: 1, yoonddo_life: 1, twerking_cheerfully: 1, wjdtjrdud_: 1, nosisilver: 1, jiminyu66: 1, jhmo4: 1, hnh._.1072: 1, deogjil_leo: 1, xiar_hb: 1, chang_wr: 1, dangerousmanjungjiwon: 2, wnhalee: 1, y__oyat: 1, gangdaryun: 1, bgslmx: 2, window_installation: 1, iain5596: 1, hxyn_0116: 1, so_de_light: 1, mediciacne: 1, jocheon_story: 1, flycat_0329: 1, form.yujin: 1, gyeongrin.lee: 1, velyyni: 1, misutkaruisgood: 1, soye436: 1, m._.suxg: 1, cnmxoy: 1, minseo_____o: 1, kimsk_4774: 1, gangyang_0: 1, cha_yulmon: 1, h___vlin: 1, lmfao_ag: 1, tmdals1103: 1, minxxiiy: 1, milkyway0529: 1, thatsnotyourfault_: 1, gkssnf1: 1, auddptmf: 2, yun.3z: 1, uddun.calli: 1, jeonsmallsmell: 1, _kaer.u: 1, ckrit67: 1, woo_soon2: 1, ye_5e0.10: 1, hi_.ring: 1, nayvibe: 1, toy_story._.v: 1, ancofpia: 1, oyatcolouryin: 1, taeho_320: 1, tuna_omong: 1, jjwwon516: 1, kimvolah: 1, sarnag111: 1, wiwi_wi93: 1, kwxseo_: 1, xiho.olee: 1, iph__________y: 1, blissli_h: 1, inseoul_please: 1, pe2niet_: 1, l_j_kite: 1, tngus1224: 1, ha_eun0902: 1, munvie_: 1, rkheun679: 1, prksngj: 1, cho_0.ahyun: 1, zinzzayong: 1, jud.y5531: 1, 0mrha: 1, m.0_0.m_y: 1, imovoll: 1, dawn.ontherocks: 1, m.hye1118: 1, xonacado: 1, clair_de._.lune05: 1, jeon9un: 1, ijaein507: 1, nanx7_7i: 1, 2homes41kid: 1, noahh_173: 1, isthishyuk__: 1, iromxotnemem: 1, mii1n._.08: 1, theoldsoulyeah: 1, urin_ch0i: 1, rudnf_thsu: 1, youuuu_._: 1, mungchi0401: 1, nagajuseyohonjaitgo: 1, haepari.c_x: 1, leesuin_8512: 1, jxxexx_: 1, hi.haesol: 1, jinzza_shin_na: 1, full_moon1108: 1, ekrmdsld: 1, soxiii_9: 1, kimsoyeon._.769: 1, seung._.juns: 1, tjwnsdnjs1195: 1, syakolrie: 1, _oddxxnu: 1, 1325476g0: 1, 0jiin2.e: 1, cokey.y: 1, potatonarra: 1, yunsoyuri: 1, minjuuu_ju: 1, zyeon_._._: 1, yechan_c27: 1, lxxze_: 1, daehan.r: 1, minkue_1112: 1, j_12034: 1, dykk02: 1, qoneguri: 1, g._.7974: 1, _magno1ia: 1, seo.n_: 1, hanoeyhk: 1, summer1otus: 1, yujung1102: 1, illsucc33d: 1, sayeungee: 1, x0._.xexn19: 1, xaxt.zox: 1, with_mate: 1, teemo_ming: 1, rxaexdxd_: 1, yum_o_k: 1, xomxstar: 1, seongho5377: 1, ch0i._.bean: 1, rloseo6: 1, co._.0021: 1, dlawldnjs02: 1, trol_king77: 1, s.unflower0: 1, eun_gi0725: 1, 1eeseunghun_: 1, yoonyeryeong: 1, thing_hyeon: 1, snow.2004116: 1, little_punk_730: 1, lehz._.l: 1, mh00_38: 1, dhyuni__: 1, xeozino: 1, 08q___q80: 1, my_little.attic: 1, pastrypepe: 1, my__name_is_babo: 1, jcs1kk: 1, sosososososoni: 1, es_uneo44: 1, s_yejin_v: 1, ju_o3ooo: 1, hjw0_9: 1, traceofh: 1, my.darl_my.blud: 1, yeonhwa_0808: 1, hj_w0313: 1, z_hye_3: 1, rqwqr_0223: 1, 04.kimnahyeon: 1, jjun_o_05: 1, yeonjoon_06: 1, j00000eun: 1, hauooooni: 1, slxeyar: 1, taeho_05: 1, hayul1356: 1, khs1228: 1, 0nie0n: 1, leeunxeo: 1, do_u.2: 1, uuyuuyo: 1, bbb.aue: 1\n"
     ]
    }
   ],
   "source": [
    "posts = driver.find_elements(By.XPATH, '//a[contains(@href, \"/p/\")]')\n",
    "post_links = [post.get_attribute('href') for post in posts[:5]]  # 최근 게시물 5개 링크 저장\n",
    "\n",
    "# 사용자 아이디 수집용 dict\n",
    "like_users = dict()\n",
    "for index, post_url in enumerate(post_links, start=1):\n",
    "    # 좋아요 페이지로 이동\n",
    "    driver.get(f'{post_url}liked_by/')\n",
    "    time.sleep(2)  # 로딩 후 대기\n",
    "    try:\n",
    "        last_height = driver.execute_script(\"return document.body.scrollHeight\")\n",
    "        \n",
    "        while True:\n",
    "            # 좋아요 사용자 리스트 가져오기\n",
    "            users = driver.find_elements(By.XPATH, '//span[contains(@class, \"_ap3a _aaco _aacw _aacx _aad7 _aade\")]')\n",
    "            for user in users:\n",
    "                like_users[user.text] = like_users.get(user.text, 0) + 1\n",
    "            # 스크롤 내리기\n",
    "            driver.execute_script(\"window.scrollTo(0, document.body.scrollHeight);\")\n",
    "            \n",
    "            # 스크롤 후 대기\n",
    "            time.sleep(1)\n",
    "\n",
    "            # 새로운 높이 계산\n",
    "            new_height = driver.execute_script(\"return document.body.scrollHeight\")\n",
    "            \n",
    "            # 마지막 높이와 비교하여 더 이상 스크롤할 수 없으면 종료\n",
    "            if new_height == last_height:\n",
    "                break\n",
    "            last_height = new_height\n",
    "\n",
    "        # 좋아요 사용자 출력\n",
    "        #print(f\"Post {index} URL: {post_url} - Liked Users: {', '.join(list(like_users)[:len(like_users)])}\")\n",
    "        print(f\"Post {index} URL: {post_url} - Liked Users: {', '.join(f'{key}: {value}' for key, value in like_users.items())}\") \n",
    "    \n",
    "    except Exception as e:\n",
    "        print(f\"좋아요 사용자 리스트를 찾는 데 실패했습니다: {e}\")"
   ]
  },
  {
   "cell_type": "code",
   "execution_count": 172,
   "metadata": {},
   "outputs": [],
   "source": [
    "posts = driver.find_elements(By.XPATH, '//a[contains(@href, \"/p/\")]')\n",
    "post_links = [post.get_attribute('href') for post in posts[:5]]  # 최근 게시물 5개 링크 저장\n",
    "\n",
    "# 사용자 아이디 수집용 dict\n",
    "comment_users = dict()\n",
    "for index, post_url in enumerate(post_links, start=1):\n",
    "    # 게시글 페이지로 이동\n",
    "    driver.get(f'{post_url}')\n",
    "    time.sleep(2)  # 로딩 후 대기\n",
    "    try:\n",
    "        # 댓글 사용자 리스트 가져오기\n",
    "        comment_info = driver.find_elements(By.XPATH, '//span[contains(@class, \"_x1lliihq _x1plvlek _xryxfnj _x1n2onr6 _x1ji0vk5 _x18bv5gf _x193iq5w _xeuugli _x1fj9vlw _x13faqbe _x1vvkbs _x1s928wv _xhkezso _x1gmr53x _x1cpjm7i _x1fgarty _x1943h6x _x1i0vuye _xvs91rp _xo1l8bm _x5n08af _x10wh9bi _x1wdrske _x8viiok _x18hxmgj\")]')\n",
    "        for info in comment_info:\n",
    "            print(info)\n",
    "        # 좋아요 사용자 출력\n",
    "        #print(f\"Post {index} URL: {post_url} - Comment Users: {', '.join(list(comment_users)[:len(comment_users)])}\")\n",
    "        #print(f\"Post {index} URL: {post_url} - Comment Users: {', '.join(f'{key}: {value}' for key, value in comment_users.items())}\") \n",
    "    \n",
    "    except Exception as e:\n",
    "        print(f\"댓글 사용자 리스트를 찾는 데 실패했습니다: {e}\")"
   ]
  },
  {
   "cell_type": "code",
   "execution_count": 32,
   "metadata": {},
   "outputs": [
    {
     "name": "stdout",
     "output_type": "stream",
     "text": [
      "rmqdid\n",
      "좋아요 2.5만개\n",
      "rmqdid\n",
      "ji.brightly\n",
      "좋아요 1,597개\n",
      "답글 달기\n",
      "eunyul12\n",
      "좋아요 257개\n",
      "답글 달기\n",
      "youcanevenbringyourbaby\n",
      "좋아요 749개\n",
      "답글 달기\n",
      "z_pumpk1n\n",
      "좋아요 3개\n",
      "답글 달기\n",
      "sidebyeon\n",
      "좋아요 325개\n",
      "답글 달기\n",
      "yooonnii\n",
      "좋아요 2개\n",
      "답글 달기\n",
      "drawing_pio\n",
      "좋아요 150개\n",
      "답글 달기\n",
      "asukaji15\n",
      "좋아요 10개\n",
      "답글 달기\n",
      "shaneeeee_hk\n",
      "좋아요 3개\n",
      "답글 달기\n",
      "_yeonhoo26\n",
      "좋아요 21개\n",
      "답글 달기\n",
      "iwannaextra8shots\n",
      "좋아요 18개\n",
      "답글 달기\n",
      "nolimit.to_\n",
      "좋아요 5개\n",
      "답글 달기\n",
      "8f85d8\n",
      "좋아요 179개\n",
      "답글 달기\n",
      "sogm4_12\n",
      "좋아요 1개\n",
      "답글 달기\n",
      "sd.0227\n",
      "좋아요 1개\n",
      "답글 달기\n"
     ]
    }
   ],
   "source": [
    "# TODO: link에 user_account 이름 삽입\n",
    "user_account = 'rmqdid'\n",
    "driver.get(f'https://www.instagram.com/{user_account}/p/DAXT2j8zTno/')\n",
    "#driver.get('https://www.instagram.com/p/DBGu-TQS33V/')\n",
    "time.sleep(2)  # 로딩 후 대기\n",
    "\n",
    "# 댓글 사용자 리스트 가져오기\n",
    "comment_info = driver.find_elements(By.XPATH, '//span[contains(@class, \"x1lliihq x1plvlek xryxfnj x1n2onr6 x1ji0vk5 x18bv5gf x193iq5w xeuugli x1fj9vlw x13faqbe x1vvkbs x1s928wv xhkezso x1gmr53x x1cpjm7i x1fgarty x1943h6x x1i0vuye x133cpev x1xlr1w8 x5n08af x2b8uid x4zkp8e x41vudc x10wh9bi x1wdrske x8viiok x18hxmgj\")]')\n",
    "if len(comment_info) == 0:\n",
    "    # TODO: while 댓글 더 로딩하는 버튼이 존재하면 계속 찾아서 클릭\n",
    "    \n",
    "    time.sleep(2)  # 버튼 클릭 후 대기\n",
    "    \n",
    "    comment_info = driver.find_elements(By.XPATH, '//span[contains(@class, \"xt0psk2\")]')\n",
    "    # TODO: 계정 이름만 가져오는 처리 필요\n",
    "    for info in comment_info:\n",
    "        print(info.text)\n",
    "else:\n",
    "    print(\"No comment\")\n"
   ]
  }
 ],
 "metadata": {
  "kernelspec": {
   "display_name": "Python 3",
   "language": "python",
   "name": "python3"
  },
  "language_info": {
   "codemirror_mode": {
    "name": "ipython",
    "version": 3
   },
   "file_extension": ".py",
   "mimetype": "text/x-python",
   "name": "python",
   "nbconvert_exporter": "python",
   "pygments_lexer": "ipython3",
   "version": "3.13.0"
  }
 },
 "nbformat": 4,
 "nbformat_minor": 2
}
